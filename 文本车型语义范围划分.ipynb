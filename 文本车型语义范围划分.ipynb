{
 "cells": [
  {
   "cell_type": "code",
   "execution_count": 12,
   "metadata": {
    "collapsed": false
   },
   "outputs": [],
   "source": [
    "import os\n",
    "import re\n",
    "import pandas as pd\n",
    "import json\n",
    "import random\n",
    "import jieba\n"
   ]
  },
  {
   "cell_type": "code",
   "execution_count": 13,
   "metadata": {
    "collapsed": true
   },
   "outputs": [],
   "source": [
    "def __merge_symmetry(sentences, symmetry=('“','”')):\n",
    "    '''合并对称符号，如双引号'''\n",
    "    effective_ = []\n",
    "    merged = True\n",
    "    for index in range(len(sentences)):       \n",
    "        if symmetry[0] in sentences[index] and symmetry[1] not in sentences[index]:\n",
    "            merged = False\n",
    "            effective_.append(sentences[index])\n",
    "        elif symmetry[1] in sentences[index] and not merged:\n",
    "            merged = True\n",
    "            effective_[-1] += sentences[index]\n",
    "        elif symmetry[0] not in sentences[index] and symmetry[1] not in sentences[index] and not merged :\n",
    "            effective_[-1] += sentences[index]\n",
    "        else:\n",
    "            effective_.append(sentences[index])\n",
    "        \n",
    "    return [i.strip() for i in effective_ if len(i.strip()) > 0]\n",
    "\n",
    "def to_sentences(paragraph):\n",
    "    \"\"\"由段落切分成句子\"\"\"\n",
    "    sentences = re.split(r\"(？|。|！|\\…\\…)\", paragraph)\n",
    "    sentences.append(\"\")\n",
    "    sentences = [\"\".join(i) for i in zip(sentences[0::2], sentences[1::2])]\n",
    "    sentences = [i.strip() for i in sentences if len(i.strip()) > 0]\n",
    "    \n",
    "    for j in range(1, len(sentences)):\n",
    "        if sentences[j][0] == '”':\n",
    "            sentences[j-1] = sentences[j-1] + '”'\n",
    "            sentences[j] = sentences[j][1:]\n",
    "        elif sentences[j][0] == '\"' and (sentences[j-1].count('\"') % 2 != 0):\n",
    "            sentences[j-1] = sentences[j-1] + '\"'\n",
    "            sentences[j] = sentences[j][1:]\n",
    "            \n",
    "    sentences = __merge_symmetry(sentences, symmetry=('“','”'))\n",
    "    sentences = __merge_symmetry(sentences, symmetry=('(',')'))\n",
    "    sentences = __merge_symmetry(sentences, symmetry=('（','）'))\n",
    "    return sentences"
   ]
  },
  {
   "cell_type": "code",
   "execution_count": 14,
   "metadata": {
    "collapsed": false
   },
   "outputs": [],
   "source": [
    "input_file = 'C:/Users/ly-lhr.PVI/车型识别模型/模型构建/东风日产负面舆情日报2020年6月30日9：30/东风日产负面舆情日报2020年6月30日9：30.xlsx'\n",
    "output_dir = input_file[:-5]\n",
    "\n",
    "if not os.path.exists(output_dir):\n",
    "    os.mkdir(output_dir)"
   ]
  },
  {
   "cell_type": "code",
   "execution_count": 15,
   "metadata": {
    "collapsed": false
   },
   "outputs": [],
   "source": [
    "df = pd.read_excel(input_file, sheet_name='网络')[['ID', '主要内容']]"
   ]
  },
  {
   "cell_type": "code",
   "execution_count": 16,
   "metadata": {
    "collapsed": false
   },
   "outputs": [],
   "source": [
    "df_seg = []\n",
    "for i, row in df.iterrows():\n",
    "    id, content = row['ID'], row['主要内容']\n",
    "    paragraph_id = 0\n",
    "    for paragraph in content.split('\\n'):\n",
    "        paragraph = paragraph.strip()\n",
    "        if paragraph:\n",
    "            paragraph_id += 1\n",
    "            sent_id = 0\n",
    "            for sent in to_sentences(paragraph):\n",
    "                sent = sent.strip()\n",
    "                if sent:\n",
    "                    sent_id += 1\n",
    "                    df_seg.append([id, paragraph_id, sent_id, sent])\n",
    "df_seg = pd.DataFrame(df_seg, columns=['ID', 'paragraph_id', 'sent_id', 'sentence'])"
   ]
  },
  {
   "cell_type": "code",
   "execution_count": 23,
   "metadata": {
    "collapsed": false
   },
   "outputs": [],
   "source": [
    "df_seg.to_csv('C:/Users/ly-lhr.PVI/车型识别模型/模型构建/东风日产负面舆情日报2020年6月30日9：30/tmp.csv', encoding='utf-8-sig')"
   ]
  },
  {
   "cell_type": "code",
   "execution_count": 24,
   "metadata": {
    "collapsed": false
   },
   "outputs": [
    {
     "data": {
      "text/html": [
       "<div>\n",
       "<style scoped>\n",
       "    .dataframe tbody tr th:only-of-type {\n",
       "        vertical-align: middle;\n",
       "    }\n",
       "\n",
       "    .dataframe tbody tr th {\n",
       "        vertical-align: top;\n",
       "    }\n",
       "\n",
       "    .dataframe thead th {\n",
       "        text-align: right;\n",
       "    }\n",
       "</style>\n",
       "<table border=\"1\" class=\"dataframe\">\n",
       "  <thead>\n",
       "    <tr style=\"text-align: right;\">\n",
       "      <th></th>\n",
       "      <th>ID</th>\n",
       "      <th>主要内容</th>\n",
       "    </tr>\n",
       "  </thead>\n",
       "  <tbody>\n",
       "    <tr>\n",
       "      <th>0</th>\n",
       "      <td>1</td>\n",
       "      <td>阅读本文前，请您先点击上面的蓝色字体\"汽车大狮\"，再点击\"关注\"，这样您就可以继续免费收到内...</td>\n",
       "    </tr>\n",
       "    <tr>\n",
       "      <th>1</th>\n",
       "      <td>2</td>\n",
       "      <td>汽车是一个机器，它的车身是由钢铁制成的，如果防锈防腐做不好的话，车身就很容易会生锈。有一些汽...</td>\n",
       "    </tr>\n",
       "    <tr>\n",
       "      <th>2</th>\n",
       "      <td>3</td>\n",
       "      <td>据相关汽车销售网统计，东风日产天籁单月销量为6755辆，1-累计销量为20599辆，无论是月...</td>\n",
       "    </tr>\n",
       "    <tr>\n",
       "      <th>3</th>\n",
       "      <td>4</td>\n",
       "      <td>可变压缩比发动机那么厉害，为何天籁还是凉？\\r\\n日系三杰，丰田凯美瑞、本田雅阁和日产天籁。...</td>\n",
       "    </tr>\n",
       "    <tr>\n",
       "      <th>4</th>\n",
       "      <td>5</td>\n",
       "      <td>日产途达的竞争目标是丰田普拉多，刚上市的时候，信誓旦旦会把普拉多给打倒，但是最终证明普拉多是...</td>\n",
       "    </tr>\n",
       "  </tbody>\n",
       "</table>\n",
       "</div>"
      ],
      "text/plain": [
       "   ID                                               主要内容\n",
       "0   1  阅读本文前，请您先点击上面的蓝色字体\"汽车大狮\"，再点击\"关注\"，这样您就可以继续免费收到内...\n",
       "1   2  汽车是一个机器，它的车身是由钢铁制成的，如果防锈防腐做不好的话，车身就很容易会生锈。有一些汽...\n",
       "2   3  据相关汽车销售网统计，东风日产天籁单月销量为6755辆，1-累计销量为20599辆，无论是月...\n",
       "3   4  可变压缩比发动机那么厉害，为何天籁还是凉？\\r\\n日系三杰，丰田凯美瑞、本田雅阁和日产天籁。...\n",
       "4   5  日产途达的竞争目标是丰田普拉多，刚上市的时候，信誓旦旦会把普拉多给打倒，但是最终证明普拉多是..."
      ]
     },
     "execution_count": 24,
     "metadata": {},
     "output_type": "execute_result"
    }
   ],
   "source": [
    "df.head()"
   ]
  },
  {
   "cell_type": "code",
   "execution_count": 25,
   "metadata": {
    "collapsed": true
   },
   "outputs": [],
   "source": [
    "s = \"\"\"\n",
    "很多人买车还是非常挑剔的，都希望经过一番精挑细选后能买到适合自己的车型，这也容易理解。首先其次的价格并不便宜，一辆十来万也是正常的，贵的二三十万甚至上百万，而普通人买车自然更关注汽车的性价比，谁也不想花钱买了不喜欢的车型。此外，对于一些追求个性的人来说，普通的家轿似乎并不能满足日常需求，因此就会考虑买越野车或者是轿跑车之类的，尤其是越野车，在当下也是越来越受欢迎。\n",
    "打开APP，查看更多精彩图片\n",
    "而在越野车这个市场中，耳熟能详的车型也不少，像吉普牧马人、奔驰G级、丰田陆巡、日产途乐等，当然，低端市场也有一些比较有名气的车型，像北汽212、铃木吉姆尼等。其实，越野的门槛还是比较高的，普通人如果真的要玩越野，那基本不可能买得起几十万的越野车。因此，日产也是看到了这个市场的前景，推出了一款比较便宜的硬派SUV，又一硬派SUV倒下，尺寸媲美汉兰达，起步16万多，可惜没人懂，该车便是日产途达。\n",
    "不可否认，途达作为硬派SUV还是有资格的，首先就是外观，整体风格和老大哥途乐有些类似，看上去比较方正硬朗，这也是符合硬派SUV的定位。该车前脸采用了日产最终的设计，大尺寸V型前脸加入大量镀铬饰条修饰，让整车看上去更有档次感。而在车身侧面，途达同样也是和其身份相符，方正的车身，没有太多腰线的修饰，但这并不重要，毕竟硬派SUV要的就是这种\"\"狂野\"\"，并不需要过多的腰线，那样反而会让其看起来小家子气。\n",
    "车尾的造型比较普通，和国产硬派SUV哈弗H9比起来还是差距还是比较明显的，不过简洁的设计也意料之内。值得一提的是，其离去角达到了27度，这样一来车尾比较高，下方大量黑色饰板的修饰，在视觉上无疑更有冲击力。而在尺寸方面，途达也是有较大的优势，其车长达到了4882mm，车高为1835mm，并且还有着2850mm的轴距。这样的车身尺寸，完全可以媲美汉兰达，在气势上确实能给人很强的满足感。\n",
    "来到车内，途达内饰的设计相对于外观就比较一般了，并没有什么让人眼前一亮的地方，其中方向盘采用日产经典的三幅式设计，不过造型并不太符合国人的审美。此外，对称式中控台的造型没有太多花里胡哨的设计，考虑到其定位，这也算在情理之中。但做工用料就比较一般了，中控台基本使用的是硬塑料，给人的感觉比较廉价。但空间布局还是比较合理的，储物格数量较多，而且尺寸都比较大，完全不用担心存在问题。当然，途达的座椅也是比较柔软，这也符合日产一贯的风格，但后排靠背角度比较直，长时间乘坐并不怎么舒服。\n",
    "而在动力方面，途达全系搭载的是一台代号为QR25的2.5L发动机，最大马力193匹，峰值扭矩245牛米，匹配6挡手动和7挡手自一体变速箱。不难发现，这台2.5L发动机和奇骏上的那台2.5L是同一系列的发动机，只是调教有些许差异。当然，对于有着近两吨车重的途达而言，这套动力组合其实并不怎么够用，当然越野的话还是可以胜任的。在高配车型上，途达配备了分时四驱系统，其结构和普拉多一样，在低速下可以将扭矩放大2.7倍，这样就能大幅度提高脱困能力了。\n",
    "其实，对于途达而言，日产的算盘还是非常明确的，那就是走低端路线，该车指导价为16.98-24.83万，而且市面上还有几千上万的优惠，入门车型起步价在16万左右，性价比还是非常高的。只是遗憾的是途达的销量异常惨淡，该车在五月份卖出了1185台，六月份更是只卖出了1021台，每月一千多的销量确实让人没想到。当然，这和该车采用后轮鼓刹有关，毕竟鼓刹在性能和稳定性上确实不如通风盘式刹车系统，而行车安全，无疑是最重要的。\"\n",
    "\"\"\" "
   ]
  },
  {
   "cell_type": "code",
   "execution_count": 26,
   "metadata": {
    "collapsed": true
   },
   "outputs": [],
   "source": [
    "s = \"\"\"\n",
    "很多人买车还是非常挑剔的，都希望经过一番精挑细选后能买到适合自己的车型，这也容易理解。\"\"\""
   ]
  },
  {
   "cell_type": "code",
   "execution_count": 27,
   "metadata": {
    "collapsed": false
   },
   "outputs": [
    {
     "data": {
      "text/plain": [
       "[[['很多人买车还是非常挑剔的，都希望经过一番精挑细选后能买到适合自己的车型，这也容易理解。', '']]]"
      ]
     },
     "execution_count": 27,
     "metadata": {},
     "output_type": "execute_result"
    }
   ],
   "source": [
    "s = s.strip()\n",
    "T = [[[sent, ''] for sent in to_sentences(p)] for p in s.split('\\n')]\n",
    "T"
   ]
  },
  {
   "cell_type": "code",
   "execution_count": 22,
   "metadata": {
    "collapsed": true
   },
   "outputs": [],
   "source": [
    "class Sentence:\n",
    "    def __init__(self, text, car=[]):\n",
    "        self.text = text\n",
    "        self.car = car\n",
    "\n",
    "class Paragraph:\n",
    "    def __init__(self, car=[]):\n",
    "        self.car = car\n",
    "        self.sentence = []\n",
    "    def add_sentence(self, sentence):\n",
    "        self.sentence.append(sentence)\n",
    "    def update_car(self):\n",
    "        car = set()\n",
    "        for sent in self.sentence:\n",
    "            car.update(sent.car)\n",
    "        self.car = car\n",
    "    def infer_sent(self):\n",
    "        pass\n",
    "    def print_paragraph(self):\n",
    "        paragraph = ''.join([sent.text for sent in self.sentence])\n",
    "        print(paragraph)\n",
    "\n",
    "class Article:\n",
    "    def __init__(self, title, car=[]):\n",
    "        self.title = title\n",
    "        self.car = car\n",
    "        self.paragraph = []\n",
    "    def add_paragraph(self, paragraph):\n",
    "        self.paragraph.append(paragraph)\n",
    "    def update_car(self):\n",
    "        car = set()\n",
    "        for para in self.paragraph:\n",
    "            para.update_car()\n",
    "            car.update(para.car)\n",
    "        self.car = car\n",
    "    def infer_paragraph(self):\n",
    "        pass\n",
    "    def print_article(self):\n",
    "        print('Title:', self.title)\n",
    "        print('Content:')\n",
    "        for paragraph in self.paragraph:\n",
    "            paragraph.print_paragraph()\n",
    "    def save_article(self):\n",
    "        pass\n",
    "    \n"
   ]
  }
 ],
 "metadata": {
  "kernelspec": {
   "display_name": "Python 3",
   "language": "python",
   "name": "python3"
  },
  "language_info": {
   "codemirror_mode": {
    "name": "ipython",
    "version": 3
   },
   "file_extension": ".py",
   "mimetype": "text/x-python",
   "name": "python",
   "nbconvert_exporter": "python",
   "pygments_lexer": "ipython3",
   "version": "3.5.4"
  }
 },
 "nbformat": 4,
 "nbformat_minor": 2
}
